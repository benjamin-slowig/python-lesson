{
 "cells": [
  {
   "cell_type": "code",
   "execution_count": 1,
   "id": "347f8341",
   "metadata": {},
   "outputs": [],
   "source": [
    "import urllib.request\n",
    "import json\n",
    "\n",
    "base_url = \"https://api.datacite.org/application/vnd.datacite.datacite+json/\"\n",
    "doi = \"10.6084/m9.figshare.155613\"\n",
    "full_url = base_url + doi"
   ]
  },
  {
   "cell_type": "code",
   "execution_count": 2,
   "id": "5136ef4a",
   "metadata": {},
   "outputs": [],
   "source": [
    "doi_json_dataset = urllib.request.urlopen(full_url).read()"
   ]
  },
  {
   "cell_type": "code",
   "execution_count": 3,
   "id": "8519e679",
   "metadata": {},
   "outputs": [],
   "source": [
    "doi_dataset = json.loads(doi_json_dataset)"
   ]
  },
  {
   "cell_type": "code",
   "execution_count": 4,
   "id": "c424858f",
   "metadata": {},
   "outputs": [
    {
     "data": {
      "text/plain": [
       "{'id': 'https://doi.org/10.6084/m9.figshare.155613',\n",
       " 'doi': '10.6084/M9.FIGSHARE.155613',\n",
       " 'url': 'https://figshare.com/articles/dataset/git_repository_for_paper_on_git_and_reproducible_science/155613',\n",
       " 'types': {'ris': 'DATA',\n",
       "  'bibtex': 'misc',\n",
       "  'citeproc': 'dataset',\n",
       "  'schemaOrg': 'Dataset',\n",
       "  'resourceType': 'Dataset',\n",
       "  'resourceTypeGeneral': 'Dataset'},\n",
       " 'creators': [{'name': 'Ram, Karthik',\n",
       "   'nameType': 'Personal',\n",
       "   'givenName': 'Karthik',\n",
       "   'familyName': 'Ram',\n",
       "   'affiliation': [],\n",
       "   'nameIdentifiers': [{'schemeUri': 'https://orcid.org',\n",
       "     'nameIdentifier': 'https://orcid.org/0000-0002-0233-1757',\n",
       "     'nameIdentifierScheme': 'ORCID'}]}],\n",
       " 'titles': [{'title': 'git repository for paper on git and reproducible science'}],\n",
       " 'publisher': 'figshare',\n",
       " 'container': {},\n",
       " 'subjects': [{'subject': '60102 Bioinformatics', 'subjectScheme': 'FOR'},\n",
       "  {'subject': 'FOS: Computer and information sciences',\n",
       "   'schemeUri': 'http://www.oecd.org/science/inno/38235147.pdf',\n",
       "   'subjectScheme': 'Fields of Science and Technology (FOS)'},\n",
       "  {'subject': 'FOS: Computer and information sciences',\n",
       "   'subjectScheme': 'Fields of Science and Technology (FOS)'}],\n",
       " 'contributors': [],\n",
       " 'dates': [{'date': '2013-02-02', 'dateType': 'Created'},\n",
       "  {'date': '2013-02-11', 'dateType': 'Updated'},\n",
       "  {'date': '2013', 'dateType': 'Issued'}],\n",
       " 'publicationYear': 2013,\n",
       " 'identifiers': [],\n",
       " 'sizes': ['18290097 Bytes'],\n",
       " 'formats': [],\n",
       " 'rightsList': [{'rights': 'Creative Commons Attribution 4.0 International',\n",
       "   'rightsUri': 'https://creativecommons.org/licenses/by/4.0/legalcode',\n",
       "   'schemeUri': 'https://spdx.org/licenses/',\n",
       "   'rightsIdentifier': 'cc-by-4.0',\n",
       "   'rightsIdentifierScheme': 'SPDX'}],\n",
       " 'descriptions': [{'description': \"This is the archived git repostiory for this paper: git can facilitate greater reproducibility and increased transparency in science Paper is currently in press in Source Code in Medicine and Biology and this zipped repo gives you access to the full history of the paper's development.\",\n",
       "   'descriptionType': 'Abstract'}],\n",
       " 'geoLocations': [],\n",
       " 'fundingReferences': [],\n",
       " 'relatedIdentifiers': [],\n",
       " 'schemaVersion': 'http://datacite.org/schema/kernel-4',\n",
       " 'providerId': 'figshare',\n",
       " 'clientId': 'figshare.ars',\n",
       " 'agency': 'datacite',\n",
       " 'state': 'findable'}"
      ]
     },
     "execution_count": 4,
     "metadata": {},
     "output_type": "execute_result"
    }
   ],
   "source": [
    "doi_dataset"
   ]
  },
  {
   "cell_type": "code",
   "execution_count": 5,
   "id": "ce365c02",
   "metadata": {},
   "outputs": [
    {
     "data": {
      "text/plain": [
       "dict"
      ]
     },
     "execution_count": 5,
     "metadata": {},
     "output_type": "execute_result"
    }
   ],
   "source": [
    "type(doi_dataset)"
   ]
  },
  {
   "cell_type": "code",
   "execution_count": 6,
   "id": "caa9f5fa",
   "metadata": {},
   "outputs": [
    {
     "name": "stdout",
     "output_type": "stream",
     "text": [
      "Help on function load in module json:\n",
      "\n",
      "load(fp, *, cls=None, object_hook=None, parse_float=None, parse_int=None, parse_constant=None, object_pairs_hook=None, **kw)\n",
      "    Deserialize ``fp`` (a ``.read()``-supporting file-like object containing\n",
      "    a JSON document) to a Python object.\n",
      "    \n",
      "    ``object_hook`` is an optional function that will be called with the\n",
      "    result of any object literal decode (a ``dict``). The return value of\n",
      "    ``object_hook`` will be used instead of the ``dict``. This feature\n",
      "    can be used to implement custom decoders (e.g. JSON-RPC class hinting).\n",
      "    \n",
      "    ``object_pairs_hook`` is an optional function that will be called with the\n",
      "    result of any object literal decoded with an ordered list of pairs.  The\n",
      "    return value of ``object_pairs_hook`` will be used instead of the ``dict``.\n",
      "    This feature can be used to implement custom decoders.  If ``object_hook``\n",
      "    is also defined, the ``object_pairs_hook`` takes priority.\n",
      "    \n",
      "    To use a custom ``JSONDecoder`` subclass, specify it with the ``cls``\n",
      "    kwarg; otherwise ``JSONDecoder`` is used.\n",
      "\n"
     ]
    }
   ],
   "source": [
    "help(json.load)"
   ]
  },
  {
   "cell_type": "code",
   "execution_count": 7,
   "id": "2bfba30b",
   "metadata": {},
   "outputs": [
    {
     "data": {
      "text/plain": [
       "dict_keys(['id', 'doi', 'url', 'types', 'creators', 'titles', 'publisher', 'container', 'subjects', 'contributors', 'dates', 'publicationYear', 'identifiers', 'sizes', 'formats', 'rightsList', 'descriptions', 'geoLocations', 'fundingReferences', 'relatedIdentifiers', 'schemaVersion', 'providerId', 'clientId', 'agency', 'state'])"
      ]
     },
     "execution_count": 7,
     "metadata": {},
     "output_type": "execute_result"
    }
   ],
   "source": [
    "doi_dataset.keys()"
   ]
  },
  {
   "cell_type": "code",
   "execution_count": 9,
   "id": "12acd846",
   "metadata": {},
   "outputs": [
    {
     "name": "stdout",
     "output_type": "stream",
     "text": [
      "[{'title': 'git repository for paper on git and reproducible science'}]\n"
     ]
    }
   ],
   "source": [
    "# auf den Titel der Publikation zugreifen\n",
    "print(doi_dataset[\"titles\"])"
   ]
  },
  {
   "cell_type": "code",
   "execution_count": 10,
   "id": "6d7ec1c2",
   "metadata": {},
   "outputs": [
    {
     "name": "stdout",
     "output_type": "stream",
     "text": [
      "{'title': 'git repository for paper on git and reproducible science'}\n"
     ]
    }
   ],
   "source": [
    "print(doi_dataset[\"titles\"][0])"
   ]
  },
  {
   "cell_type": "code",
   "execution_count": 16,
   "id": "6dccb749",
   "metadata": {},
   "outputs": [],
   "source": [
    "title_dict = doi_dataset[\"titles\"][0]"
   ]
  },
  {
   "cell_type": "code",
   "execution_count": 17,
   "id": "42824e83",
   "metadata": {},
   "outputs": [
    {
     "data": {
      "text/plain": [
       "'git repository for paper on git and reproducible science'"
      ]
     },
     "execution_count": 17,
     "metadata": {},
     "output_type": "execute_result"
    }
   ],
   "source": [
    "title_dict[\"title\"]"
   ]
  },
  {
   "cell_type": "code",
   "execution_count": 18,
   "id": "1f01513a",
   "metadata": {},
   "outputs": [
    {
     "name": "stdout",
     "output_type": "stream",
     "text": [
      "{'title': 'git repository for paper on git and reproducible science'}\n"
     ]
    }
   ],
   "source": [
    "print(doi_dataset[\"titles\"][0])"
   ]
  },
  {
   "cell_type": "code",
   "execution_count": 19,
   "id": "40197289",
   "metadata": {},
   "outputs": [
    {
     "name": "stdout",
     "output_type": "stream",
     "text": [
      "git repository for paper on git and reproducible science\n"
     ]
    }
   ],
   "source": [
    "print(doi_dataset[\"titles\"][0][\"title\"])"
   ]
  },
  {
   "cell_type": "code",
   "execution_count": 20,
   "id": "4771801f",
   "metadata": {},
   "outputs": [],
   "source": [
    "# auf den Typ \"resourceTypeGeneral\" zugreifen\n"
   ]
  },
  {
   "cell_type": "code",
   "execution_count": 21,
   "id": "838693ee",
   "metadata": {},
   "outputs": [
    {
     "name": "stdout",
     "output_type": "stream",
     "text": [
      "Dataset\n"
     ]
    }
   ],
   "source": [
    "print(doi_dataset[\"types\"][\"resourceTypeGeneral\"])"
   ]
  },
  {
   "cell_type": "code",
   "execution_count": 35,
   "id": "217c1464",
   "metadata": {},
   "outputs": [
    {
     "name": "stdout",
     "output_type": "stream",
     "text": [
      "10.6084/m9.figshare.155613\n",
      "https://api.datacite.org/application/vnd.datacite.datacite+json/10.6084/m9.figshare.155613\n",
      "[{'title': 'git repository for paper on git and reproducible science'}]\n",
      "Dataset\n",
      "figshare\n",
      "-----------------\n",
      "10.6084/m9.figshare.153821.v1\n",
      "https://api.datacite.org/application/vnd.datacite.datacite+json/10.6084/m9.figshare.153821.v1\n",
      "[{'title': 'git can facilitate greater reproducibility and increased transparency in science'}]\n",
      "Dataset\n",
      "figshare\n",
      "-----------------\n",
      "10.7490/f1000research.1115338.1\n",
      "https://api.datacite.org/application/vnd.datacite.datacite+json/10.7490/f1000research.1115338.1\n",
      "[{'title': 'The role of the German National Library for Life Sciences ZB MED in the approach to a FAIR Research Data Infrastructure in Agricultural Science embedded in the Life Sciences'}]\n",
      "Other\n",
      "F1000 Research Limited\n",
      "-----------------\n",
      "10.5281/zenodo.2599866\n",
      "https://api.datacite.org/application/vnd.datacite.datacite+json/10.5281/zenodo.2599866\n",
      "[{'title': 'Nachnutzbare Awarenessmaterialien für Forschungsdatenmanagement (FDM)'}]\n",
      "Other\n",
      "Zenodo\n",
      "-----------------\n"
     ]
    }
   ],
   "source": [
    "dois = [\"10.6084/m9.figshare.155613\",\n",
    "        \"10.6084/m9.figshare.153821.v1\",\n",
    "        \"10.7490/f1000research.1115338.1\",\n",
    "        \"10.5281/zenodo.2599866\"]\n",
    "\n",
    "base_url = \"https://api.datacite.org/application/vnd.datacite.datacite+json/\"\n",
    "\n",
    "# für alle DOIs aus der Liste die DOI, titles, resourceTypeGeneral, publisher ausgeben lassen\n",
    "\n",
    "for doi in dois:\n",
    "    print(doi)\n",
    "    full_url = base_url + doi\n",
    "    print(full_url)\n",
    "    doi_json_dataset = urllib.request.urlopen(full_url).read()\n",
    "    doi_dataset = json.loads(doi_json_dataset)\n",
    "    print(doi_dataset[\"titles\"])\n",
    "    print(doi_dataset[\"types\"][\"resourceTypeGeneral\"])\n",
    "    print(doi_dataset[\"publisher\"])\n",
    "    print(\"-----------------\")"
   ]
  },
  {
   "cell_type": "code",
   "execution_count": null,
   "id": "6cf7dee5",
   "metadata": {},
   "outputs": [],
   "source": []
  }
 ],
 "metadata": {
  "kernelspec": {
   "display_name": "Python 3",
   "language": "python",
   "name": "python3"
  },
  "language_info": {
   "codemirror_mode": {
    "name": "ipython",
    "version": 3
   },
   "file_extension": ".py",
   "mimetype": "text/x-python",
   "name": "python",
   "nbconvert_exporter": "python",
   "pygments_lexer": "ipython3",
   "version": "3.8.8"
  }
 },
 "nbformat": 4,
 "nbformat_minor": 5
}
